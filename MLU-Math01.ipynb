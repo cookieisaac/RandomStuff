{
  "metadata" : {
    "kernelspec" : {
      "display_name" : "Python 2",
      "language" : "python",
      "name" : "python2"
    },
    "language_info" : {
      "file_extension" : ".py",
      "mimetype" : "text/x-python",
      "name" : "python"
    }
  },
  "nbformat" : 4,
  "nbformat_minor" : 2,
  "cells" : [ {
    "cell_type" : "markdown",
    "metadata" : { },
    "source" : [ "$\\|\\vec x\\|_2 = \\sqrt{x_1^2+x_2^2}$" ]
  }, {
    "cell_type" : "markdown",
    "metadata" : { },
    "source" : [ "$$\n\\vec v =\n\\begin{pmatrix}\n1 \\\\ 2 \\\\ 3\n\\end{pmatrix}\n\\text{ and }\nA^\\top =\n\\begin{pmatrix}\n1 & 2 & 3 \\\\\n-1 & 0 & 1 \\\\\n1&1&1\n\\end{pmatrix}.\n$$" ]
  }, {
    "cell_type" : "code",
    "execution_count" : 0,
    "outputs" : [ ],
    "metadata" : { },
    "source" : [ "import numpy as np\n# This defines a (row) vector\nv = [1, 2, 3]\n# This defines a matrix\nA = [[1, 2, 3],[-1, 0, 1],[1, 1, 1]]\n# L_p-Norms of vectors are done by the following:\nprint np.linalg.norm(v,ord = 1)\nprint np.linalg.norm(v,ord = 2)\nprint np.linalg.norm(v,ord = np.inf)\n# Python in general takes a different convention\n# for matrix norms. Most will not do what you\n# think they will from our notation! However,\n# it will work to type the following for L_2 norms.\nprint np.linalg.norm(A)" ]
  }, {
    "cell_type" : "markdown",
    "metadata" : { },
    "source" : [ "" ]
  }, {
    "cell_type" : "markdown",
    "metadata" : { },
    "source" : [ "" ]
  } ]
}
